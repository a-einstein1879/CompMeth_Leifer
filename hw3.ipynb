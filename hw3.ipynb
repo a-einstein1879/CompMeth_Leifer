{
 "cells": [
  {
   "cell_type": "code",
   "execution_count": 2,
   "metadata": {
    "collapsed": false
   },
   "outputs": [
    {
     "name": "stdout",
     "output_type": "stream",
     "text": [
      "Hello, user!\n",
      "Please input the number you want to calculate factorial of: 100\n",
      "Integer calculated factorial is 93326215443944152681699238856266700490715968264381621468592963895217599993229915608941463976156518286253697920827223758251185210916864000000000000000000000000\n",
      "Float   calculated factorial is 93326215443944102188325606108575267240944254854960571509166910400407995064242937148632694030450512898042989296944474898258737204311236641477561877016501813248.000000\n"
     ]
    },
    {
     "data": {
      "text/plain": [
       "0"
      ]
     },
     "execution_count": 2,
     "metadata": {},
     "output_type": "execute_result"
    }
   ],
   "source": [
    "import hw3 as hw3\n",
    "hw3.problem1()"
   ]
  },
  {
   "cell_type": "code",
   "execution_count": 1,
   "metadata": {
    "collapsed": false
   },
   "outputs": [
    {
     "name": "stdout",
     "output_type": "stream",
     "text": [
      "delta = 0.010000000000000, derivative = 1.010000000000001\n",
      "delta = 0.001000000000000, derivative = 1.000999999999890\n",
      "delta = 0.000100000000000, derivative = 1.000099999999890\n",
      "delta = 0.000010000000000, derivative = 1.000010000006551\n",
      "delta = 0.000001000000000, derivative = 1.000000999917733\n",
      "delta = 0.000000100000000, derivative = 1.000000100583867\n",
      "delta = 0.000000010000000, derivative = 1.000000003922529\n",
      "delta = 0.000000001000000, derivative = 1.000000083740371\n",
      "delta = 0.000000000100000, derivative = 1.000000082840371\n",
      "delta = 0.000000000010000, derivative = 1.000000082750371\n",
      "delta = 0.000000000001000, derivative = 1.000088900583341\n",
      "delta = 0.000000000000100, derivative = 0.999200722162741\n",
      "delta = 0.000000000000010, derivative = 0.999200722162651\n"
     ]
    }
   ],
   "source": [
    "import hw3 as hw3\n",
    "hw3.problem2()"
   ]
  },
  {
   "cell_type": "code",
   "execution_count": null,
   "metadata": {
    "collapsed": true
   },
   "outputs": [],
   "source": []
  }
 ],
 "metadata": {
  "kernelspec": {
   "display_name": "Python 2",
   "language": "python",
   "name": "python2"
  },
  "language_info": {
   "codemirror_mode": {
    "name": "ipython",
    "version": 2
   },
   "file_extension": ".py",
   "mimetype": "text/x-python",
   "name": "python",
   "nbconvert_exporter": "python",
   "pygments_lexer": "ipython2",
   "version": "2.7.13"
  }
 },
 "nbformat": 4,
 "nbformat_minor": 2
}
